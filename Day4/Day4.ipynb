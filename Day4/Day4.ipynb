{
 "cells": [
  {
   "cell_type": "code",
   "execution_count": 1,
   "id": "fb13005c",
   "metadata": {},
   "outputs": [],
   "source": [
    "import numpy as np\n",
    "import pandas as pd"
   ]
  },
  {
   "cell_type": "markdown",
   "id": "4564efba",
   "metadata": {},
   "source": [
    "# Task 1"
   ]
  },
  {
   "cell_type": "markdown",
   "id": "607228b2",
   "metadata": {},
   "source": [
    "## Raw input"
   ]
  },
  {
   "cell_type": "code",
   "execution_count": 2,
   "id": "3d61c60f",
   "metadata": {},
   "outputs": [
    {
     "data": {
      "text/html": [
       "<div>\n",
       "<style scoped>\n",
       "    .dataframe tbody tr th:only-of-type {\n",
       "        vertical-align: middle;\n",
       "    }\n",
       "\n",
       "    .dataframe tbody tr th {\n",
       "        vertical-align: top;\n",
       "    }\n",
       "\n",
       "    .dataframe thead th {\n",
       "        text-align: right;\n",
       "    }\n",
       "</style>\n",
       "<table border=\"1\" class=\"dataframe\">\n",
       "  <thead>\n",
       "    <tr style=\"text-align: right;\">\n",
       "      <th></th>\n",
       "      <th>Raw</th>\n",
       "    </tr>\n",
       "  </thead>\n",
       "  <tbody>\n",
       "    <tr>\n",
       "      <th>0</th>\n",
       "      <td>13-53,17-82</td>\n",
       "    </tr>\n",
       "    <tr>\n",
       "      <th>1</th>\n",
       "      <td>32-32,32-42</td>\n",
       "    </tr>\n",
       "    <tr>\n",
       "      <th>2</th>\n",
       "      <td>85-85,8-86</td>\n",
       "    </tr>\n",
       "    <tr>\n",
       "      <th>3</th>\n",
       "      <td>78-80,79-91</td>\n",
       "    </tr>\n",
       "    <tr>\n",
       "      <th>4</th>\n",
       "      <td>60-71,59-70</td>\n",
       "    </tr>\n",
       "  </tbody>\n",
       "</table>\n",
       "</div>"
      ],
      "text/plain": [
       "           Raw\n",
       "0  13-53,17-82\n",
       "1  32-32,32-42\n",
       "2   85-85,8-86\n",
       "3  78-80,79-91\n",
       "4  60-71,59-70"
      ]
     },
     "execution_count": 2,
     "metadata": {},
     "output_type": "execute_result"
    }
   ],
   "source": [
    "# Using readlines()\n",
    "input_txt = open('/Users/michael/Documents/GitHub/AoC_2022/Day4/input.txt', 'r')\n",
    "Lines = input_txt.readlines()\n",
    "df = pd.DataFrame(columns=[\"Raw\"])\n",
    "\n",
    "count = 0\n",
    "# Strips the newline characters\n",
    "for i,line in enumerate(Lines):\n",
    "    count += 1\n",
    "    df.loc[i] = ([line.strip()])\n",
    "    \n",
    "df.head()"
   ]
  },
  {
   "cell_type": "markdown",
   "id": "2f5a7f87",
   "metadata": {},
   "source": [
    "## Transforming"
   ]
  },
  {
   "cell_type": "code",
   "execution_count": 3,
   "id": "b3a6ac37",
   "metadata": {},
   "outputs": [
    {
     "data": {
      "text/html": [
       "<div>\n",
       "<style scoped>\n",
       "    .dataframe tbody tr th:only-of-type {\n",
       "        vertical-align: middle;\n",
       "    }\n",
       "\n",
       "    .dataframe tbody tr th {\n",
       "        vertical-align: top;\n",
       "    }\n",
       "\n",
       "    .dataframe thead th {\n",
       "        text-align: right;\n",
       "    }\n",
       "</style>\n",
       "<table border=\"1\" class=\"dataframe\">\n",
       "  <thead>\n",
       "    <tr style=\"text-align: right;\">\n",
       "      <th></th>\n",
       "      <th>Raw</th>\n",
       "      <th>Range1</th>\n",
       "      <th>Range2</th>\n",
       "    </tr>\n",
       "  </thead>\n",
       "  <tbody>\n",
       "    <tr>\n",
       "      <th>0</th>\n",
       "      <td>13-53,17-82</td>\n",
       "      <td>13-53</td>\n",
       "      <td>17-82</td>\n",
       "    </tr>\n",
       "    <tr>\n",
       "      <th>1</th>\n",
       "      <td>32-32,32-42</td>\n",
       "      <td>32-32</td>\n",
       "      <td>32-42</td>\n",
       "    </tr>\n",
       "    <tr>\n",
       "      <th>2</th>\n",
       "      <td>85-85,8-86</td>\n",
       "      <td>85-85</td>\n",
       "      <td>8-86</td>\n",
       "    </tr>\n",
       "    <tr>\n",
       "      <th>3</th>\n",
       "      <td>78-80,79-91</td>\n",
       "      <td>78-80</td>\n",
       "      <td>79-91</td>\n",
       "    </tr>\n",
       "    <tr>\n",
       "      <th>4</th>\n",
       "      <td>60-71,59-70</td>\n",
       "      <td>60-71</td>\n",
       "      <td>59-70</td>\n",
       "    </tr>\n",
       "  </tbody>\n",
       "</table>\n",
       "</div>"
      ],
      "text/plain": [
       "           Raw Range1 Range2\n",
       "0  13-53,17-82  13-53  17-82\n",
       "1  32-32,32-42  32-32  32-42\n",
       "2   85-85,8-86  85-85   8-86\n",
       "3  78-80,79-91  78-80  79-91\n",
       "4  60-71,59-70  60-71  59-70"
      ]
     },
     "execution_count": 3,
     "metadata": {},
     "output_type": "execute_result"
    }
   ],
   "source": [
    "# Making a column that holds each range\n",
    "df['Range1'] = df['Raw'].str.split(pat=',', n=-1, expand=True)[0]\n",
    "df['Range2'] = df['Raw'].str.split(pat=',', n=-1, expand=True)[1]\n",
    "df.head()"
   ]
  },
  {
   "cell_type": "code",
   "execution_count": 4,
   "id": "b642af1b",
   "metadata": {},
   "outputs": [],
   "source": [
    "# Function to display numbers in a range\n",
    "def expand(dashed_range):\n",
    "    split = dashed_range.split('-')\n",
    "    start = int(split[0])\n",
    "    end = int(split[1])\n",
    "    all_nums = [x for x in range(start,end+1)]\n",
    "    return all_nums"
   ]
  },
  {
   "cell_type": "code",
   "execution_count": 5,
   "id": "db0c63c0",
   "metadata": {
    "scrolled": true
   },
   "outputs": [
    {
     "data": {
      "text/html": [
       "<div>\n",
       "<style scoped>\n",
       "    .dataframe tbody tr th:only-of-type {\n",
       "        vertical-align: middle;\n",
       "    }\n",
       "\n",
       "    .dataframe tbody tr th {\n",
       "        vertical-align: top;\n",
       "    }\n",
       "\n",
       "    .dataframe thead th {\n",
       "        text-align: right;\n",
       "    }\n",
       "</style>\n",
       "<table border=\"1\" class=\"dataframe\">\n",
       "  <thead>\n",
       "    <tr style=\"text-align: right;\">\n",
       "      <th></th>\n",
       "      <th>Raw</th>\n",
       "      <th>Range1</th>\n",
       "      <th>Range2</th>\n",
       "    </tr>\n",
       "  </thead>\n",
       "  <tbody>\n",
       "    <tr>\n",
       "      <th>0</th>\n",
       "      <td>13-53,17-82</td>\n",
       "      <td>[13, 14, 15, 16, 17, 18, 19, 20, 21, 22, 23, 2...</td>\n",
       "      <td>[17, 18, 19, 20, 21, 22, 23, 24, 25, 26, 27, 2...</td>\n",
       "    </tr>\n",
       "    <tr>\n",
       "      <th>1</th>\n",
       "      <td>32-32,32-42</td>\n",
       "      <td>[32]</td>\n",
       "      <td>[32, 33, 34, 35, 36, 37, 38, 39, 40, 41, 42]</td>\n",
       "    </tr>\n",
       "    <tr>\n",
       "      <th>2</th>\n",
       "      <td>85-85,8-86</td>\n",
       "      <td>[85]</td>\n",
       "      <td>[8, 9, 10, 11, 12, 13, 14, 15, 16, 17, 18, 19,...</td>\n",
       "    </tr>\n",
       "    <tr>\n",
       "      <th>3</th>\n",
       "      <td>78-80,79-91</td>\n",
       "      <td>[78, 79, 80]</td>\n",
       "      <td>[79, 80, 81, 82, 83, 84, 85, 86, 87, 88, 89, 9...</td>\n",
       "    </tr>\n",
       "    <tr>\n",
       "      <th>4</th>\n",
       "      <td>60-71,59-70</td>\n",
       "      <td>[60, 61, 62, 63, 64, 65, 66, 67, 68, 69, 70, 71]</td>\n",
       "      <td>[59, 60, 61, 62, 63, 64, 65, 66, 67, 68, 69, 70]</td>\n",
       "    </tr>\n",
       "  </tbody>\n",
       "</table>\n",
       "</div>"
      ],
      "text/plain": [
       "           Raw                                             Range1  \\\n",
       "0  13-53,17-82  [13, 14, 15, 16, 17, 18, 19, 20, 21, 22, 23, 2...   \n",
       "1  32-32,32-42                                               [32]   \n",
       "2   85-85,8-86                                               [85]   \n",
       "3  78-80,79-91                                       [78, 79, 80]   \n",
       "4  60-71,59-70   [60, 61, 62, 63, 64, 65, 66, 67, 68, 69, 70, 71]   \n",
       "\n",
       "                                              Range2  \n",
       "0  [17, 18, 19, 20, 21, 22, 23, 24, 25, 26, 27, 2...  \n",
       "1       [32, 33, 34, 35, 36, 37, 38, 39, 40, 41, 42]  \n",
       "2  [8, 9, 10, 11, 12, 13, 14, 15, 16, 17, 18, 19,...  \n",
       "3  [79, 80, 81, 82, 83, 84, 85, 86, 87, 88, 89, 9...  \n",
       "4   [59, 60, 61, 62, 63, 64, 65, 66, 67, 68, 69, 70]  "
      ]
     },
     "execution_count": 5,
     "metadata": {},
     "output_type": "execute_result"
    }
   ],
   "source": [
    "# Expanding eahc range\n",
    "df['Range1'] = df['Range1'].apply(expand)\n",
    "df['Range2'] = df['Range2'].apply(expand)\n",
    "df.head()"
   ]
  },
  {
   "cell_type": "markdown",
   "id": "a66a27cd",
   "metadata": {},
   "source": [
    "## Analysis"
   ]
  },
  {
   "cell_type": "code",
   "execution_count": 6,
   "id": "2aaef0b4",
   "metadata": {},
   "outputs": [],
   "source": [
    "# Looking for overlaps\n",
    "\n",
    "overlap_list = []\n",
    "\n",
    "for i,x in enumerate(df[\"Range1\"]):\n",
    "    range1 = x\n",
    "    range2 = df['Range2'][i]\n",
    "    \n",
    "    #Need to determine which range contains more sections for the diff test to work correctly \n",
    "    if len(range1) <= len(range2):\n",
    "        diff_test1 = list(set(range1) - set(range2))\n",
    "        if len(diff_test1) == 0:\n",
    "            #Identifiying that there is a full overlap\n",
    "            overlap_list.append(\"Full\")\n",
    "        else:\n",
    "            overlap = list(set(range1)&set(range2))\n",
    "            if len(overlap) > 0:\n",
    "                #Identifiying that there is a partial overlap\n",
    "                overlap_list.append(\"Partial\")\n",
    "            else:\n",
    "                overlap_list.append(\"None\")\n",
    "            \n",
    "    else:\n",
    "        diff_test2 = list(set(range2) - set(range1))\n",
    "        if len(diff_test2) == 0:\n",
    "            #Identifiying that there is a full overlap\n",
    "            overlap_list.append(\"Full\")\n",
    "        else:\n",
    "            overlap = list(set(range1)&set(range2))\n",
    "            if len(overlap) > 0:\n",
    "                #Identifiying that there is a full overlap\n",
    "                overlap_list.append(\"Partial\")\n",
    "            else:\n",
    "                overlap_list.append(\"None\")\n",
    "    "
   ]
  },
  {
   "cell_type": "code",
   "execution_count": 7,
   "id": "a9322d77",
   "metadata": {},
   "outputs": [
    {
     "data": {
      "text/html": [
       "<div>\n",
       "<style scoped>\n",
       "    .dataframe tbody tr th:only-of-type {\n",
       "        vertical-align: middle;\n",
       "    }\n",
       "\n",
       "    .dataframe tbody tr th {\n",
       "        vertical-align: top;\n",
       "    }\n",
       "\n",
       "    .dataframe thead th {\n",
       "        text-align: right;\n",
       "    }\n",
       "</style>\n",
       "<table border=\"1\" class=\"dataframe\">\n",
       "  <thead>\n",
       "    <tr style=\"text-align: right;\">\n",
       "      <th></th>\n",
       "      <th>Raw</th>\n",
       "      <th>Range1</th>\n",
       "      <th>Range2</th>\n",
       "      <th>Overlap</th>\n",
       "    </tr>\n",
       "  </thead>\n",
       "  <tbody>\n",
       "    <tr>\n",
       "      <th>0</th>\n",
       "      <td>13-53,17-82</td>\n",
       "      <td>[13, 14, 15, 16, 17, 18, 19, 20, 21, 22, 23, 2...</td>\n",
       "      <td>[17, 18, 19, 20, 21, 22, 23, 24, 25, 26, 27, 2...</td>\n",
       "      <td>Partial</td>\n",
       "    </tr>\n",
       "    <tr>\n",
       "      <th>1</th>\n",
       "      <td>32-32,32-42</td>\n",
       "      <td>[32]</td>\n",
       "      <td>[32, 33, 34, 35, 36, 37, 38, 39, 40, 41, 42]</td>\n",
       "      <td>Full</td>\n",
       "    </tr>\n",
       "    <tr>\n",
       "      <th>2</th>\n",
       "      <td>85-85,8-86</td>\n",
       "      <td>[85]</td>\n",
       "      <td>[8, 9, 10, 11, 12, 13, 14, 15, 16, 17, 18, 19,...</td>\n",
       "      <td>Full</td>\n",
       "    </tr>\n",
       "    <tr>\n",
       "      <th>3</th>\n",
       "      <td>78-80,79-91</td>\n",
       "      <td>[78, 79, 80]</td>\n",
       "      <td>[79, 80, 81, 82, 83, 84, 85, 86, 87, 88, 89, 9...</td>\n",
       "      <td>Partial</td>\n",
       "    </tr>\n",
       "    <tr>\n",
       "      <th>4</th>\n",
       "      <td>60-71,59-70</td>\n",
       "      <td>[60, 61, 62, 63, 64, 65, 66, 67, 68, 69, 70, 71]</td>\n",
       "      <td>[59, 60, 61, 62, 63, 64, 65, 66, 67, 68, 69, 70]</td>\n",
       "      <td>Partial</td>\n",
       "    </tr>\n",
       "    <tr>\n",
       "      <th>5</th>\n",
       "      <td>91-92,4-90</td>\n",
       "      <td>[91, 92]</td>\n",
       "      <td>[4, 5, 6, 7, 8, 9, 10, 11, 12, 13, 14, 15, 16,...</td>\n",
       "      <td>None</td>\n",
       "    </tr>\n",
       "    <tr>\n",
       "      <th>6</th>\n",
       "      <td>90-90,1-90</td>\n",
       "      <td>[90]</td>\n",
       "      <td>[1, 2, 3, 4, 5, 6, 7, 8, 9, 10, 11, 12, 13, 14...</td>\n",
       "      <td>Full</td>\n",
       "    </tr>\n",
       "    <tr>\n",
       "      <th>7</th>\n",
       "      <td>35-49,38-50</td>\n",
       "      <td>[35, 36, 37, 38, 39, 40, 41, 42, 43, 44, 45, 4...</td>\n",
       "      <td>[38, 39, 40, 41, 42, 43, 44, 45, 46, 47, 48, 4...</td>\n",
       "      <td>Partial</td>\n",
       "    </tr>\n",
       "    <tr>\n",
       "      <th>8</th>\n",
       "      <td>31-51,31-52</td>\n",
       "      <td>[31, 32, 33, 34, 35, 36, 37, 38, 39, 40, 41, 4...</td>\n",
       "      <td>[31, 32, 33, 34, 35, 36, 37, 38, 39, 40, 41, 4...</td>\n",
       "      <td>Full</td>\n",
       "    </tr>\n",
       "    <tr>\n",
       "      <th>9</th>\n",
       "      <td>78-80,81-81</td>\n",
       "      <td>[78, 79, 80]</td>\n",
       "      <td>[81]</td>\n",
       "      <td>None</td>\n",
       "    </tr>\n",
       "  </tbody>\n",
       "</table>\n",
       "</div>"
      ],
      "text/plain": [
       "           Raw                                             Range1  \\\n",
       "0  13-53,17-82  [13, 14, 15, 16, 17, 18, 19, 20, 21, 22, 23, 2...   \n",
       "1  32-32,32-42                                               [32]   \n",
       "2   85-85,8-86                                               [85]   \n",
       "3  78-80,79-91                                       [78, 79, 80]   \n",
       "4  60-71,59-70   [60, 61, 62, 63, 64, 65, 66, 67, 68, 69, 70, 71]   \n",
       "5   91-92,4-90                                           [91, 92]   \n",
       "6   90-90,1-90                                               [90]   \n",
       "7  35-49,38-50  [35, 36, 37, 38, 39, 40, 41, 42, 43, 44, 45, 4...   \n",
       "8  31-51,31-52  [31, 32, 33, 34, 35, 36, 37, 38, 39, 40, 41, 4...   \n",
       "9  78-80,81-81                                       [78, 79, 80]   \n",
       "\n",
       "                                              Range2  Overlap  \n",
       "0  [17, 18, 19, 20, 21, 22, 23, 24, 25, 26, 27, 2...  Partial  \n",
       "1       [32, 33, 34, 35, 36, 37, 38, 39, 40, 41, 42]     Full  \n",
       "2  [8, 9, 10, 11, 12, 13, 14, 15, 16, 17, 18, 19,...     Full  \n",
       "3  [79, 80, 81, 82, 83, 84, 85, 86, 87, 88, 89, 9...  Partial  \n",
       "4   [59, 60, 61, 62, 63, 64, 65, 66, 67, 68, 69, 70]  Partial  \n",
       "5  [4, 5, 6, 7, 8, 9, 10, 11, 12, 13, 14, 15, 16,...     None  \n",
       "6  [1, 2, 3, 4, 5, 6, 7, 8, 9, 10, 11, 12, 13, 14...     Full  \n",
       "7  [38, 39, 40, 41, 42, 43, 44, 45, 46, 47, 48, 4...  Partial  \n",
       "8  [31, 32, 33, 34, 35, 36, 37, 38, 39, 40, 41, 4...     Full  \n",
       "9                                               [81]     None  "
      ]
     },
     "execution_count": 7,
     "metadata": {},
     "output_type": "execute_result"
    }
   ],
   "source": [
    "df['Overlap'] = overlap_list\n",
    "df.head(10)"
   ]
  },
  {
   "cell_type": "code",
   "execution_count": 8,
   "id": "554ebfb0",
   "metadata": {},
   "outputs": [
    {
     "data": {
      "text/plain": [
       "475"
      ]
     },
     "execution_count": 8,
     "metadata": {},
     "output_type": "execute_result"
    }
   ],
   "source": [
    "np.sum(df[\"Overlap\"]==\"Full\")"
   ]
  },
  {
   "cell_type": "code",
   "execution_count": 9,
   "id": "4b63235e",
   "metadata": {},
   "outputs": [
    {
     "data": {
      "text/plain": [
       "825"
      ]
     },
     "execution_count": 9,
     "metadata": {},
     "output_type": "execute_result"
    }
   ],
   "source": [
    "np.sum(df['Overlap'] != 'None')"
   ]
  }
 ],
 "metadata": {
  "kernelspec": {
   "display_name": "Python 3 (ipykernel)",
   "language": "python",
   "name": "python3"
  },
  "language_info": {
   "codemirror_mode": {
    "name": "ipython",
    "version": 3
   },
   "file_extension": ".py",
   "mimetype": "text/x-python",
   "name": "python",
   "nbconvert_exporter": "python",
   "pygments_lexer": "ipython3",
   "version": "3.9.12"
  }
 },
 "nbformat": 4,
 "nbformat_minor": 5
}
